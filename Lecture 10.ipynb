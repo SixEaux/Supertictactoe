{
 "cells": [
  {
   "cell_type": "markdown",
   "metadata": {},
   "source": [
    "# Lecture 10"
   ]
  },
  {
   "cell_type": "markdown",
   "metadata": {},
   "source": [
    "## First window"
   ]
  },
  {
   "cell_type": "code",
   "execution_count": 2,
   "metadata": {},
   "outputs": [],
   "source": [
    "from tkinter import Tk, Label\n",
    "\n",
    "def create_first_window():\n",
    "    root = Tk()\n",
    "    root.title(\"Google\")\n",
    "\n",
    "    labelResultat = Label(root, text=\"Votre recherche est : \")\n",
    "\n",
    "    labelResultat.grid(row=2,column=0)\n",
    "\n",
    "    root.mainloop()\n",
    "\n",
    "create_first_window()"
   ]
  },
  {
   "cell_type": "markdown",
   "metadata": {},
   "source": [
    "## Widget"
   ]
  },
  {
   "cell_type": "markdown",
   "metadata": {},
   "source": [
    "### Label"
   ]
  },
  {
   "cell_type": "code",
   "execution_count": 3,
   "metadata": {},
   "outputs": [],
   "source": [
    "from tkinter import Tk, Label\n",
    "\n",
    "root = Tk()\n",
    "label = Label(root, text=\"Hello\", foreground=\"#892222\",\n",
    "              background=\"#FF00AA\", padx=\"100\", pady=\"40\")\n",
    "label.grid()\n",
    "root.mainloop()"
   ]
  },
  {
   "cell_type": "code",
   "execution_count": 34,
   "metadata": {},
   "outputs": [],
   "source": [
    "from tkinter import Tk, Label\n",
    "\n",
    "root = Tk()\n",
    "label = Label(root, text=\"Hello\", foreground=\"#892222\",\n",
    "              background=\"#FFAAAA\", padx=\"100\", pady=\"20\")\n",
    "label.grid()\n",
    "label2 = Label(root, text=\"ça va ? texte plus long\", foreground=\"#228922\",\n",
    "              background=\"#AAFFAA\", padx=\"0\", pady=\"0\")\n",
    "label2.grid()\n",
    "\n",
    "root.mainloop()"
   ]
  },
  {
   "cell_type": "markdown",
   "metadata": {},
   "source": [
    "### Button"
   ]
  },
  {
   "cell_type": "code",
   "execution_count": 35,
   "metadata": {},
   "outputs": [],
   "source": [
    "from tkinter import Tk, Button\n",
    "\n",
    "root = Tk()\n",
    "button = Button(root, text='clic ici',\n",
    "               activeforeground = \"#FF0000\")\n",
    "\n",
    "button.grid()\n",
    "\n",
    "root.mainloop()"
   ]
  },
  {
   "cell_type": "markdown",
   "metadata": {},
   "source": [
    "### Entry"
   ]
  },
  {
   "cell_type": "code",
   "execution_count": 36,
   "metadata": {},
   "outputs": [],
   "source": [
    "from tkinter import Tk, StringVar, Entry\n",
    "\n",
    "root = Tk()\n",
    "text = StringVar(root)  \n",
    "\n",
    "entry_name = Entry(root, textvariable=text)\n",
    "entry_name.grid()\n",
    "\n",
    "root.mainloop()"
   ]
  },
  {
   "cell_type": "markdown",
   "metadata": {},
   "source": [
    "### RadioButton"
   ]
  },
  {
   "cell_type": "code",
   "execution_count": 39,
   "metadata": {},
   "outputs": [],
   "source": [
    "from tkinter import Tk, StringVar, Radiobutton\n",
    "\n",
    "root = Tk()\n",
    "\n",
    "choixStringVar = StringVar(root, '')\n",
    "\n",
    "rbtn1 = Radiobutton(root, variable=choixStringVar, value=\"choix 1\")\n",
    "rbtn1.grid()\n",
    "rbtn2 = Radiobutton(root, variable=choixStringVar, value=\"choix 2\")\n",
    "rbtn2.grid()\n",
    "rbtn3 = Radiobutton(root, variable=choixStringVar, value=\"choix 3\")\n",
    "rbtn3.grid()\n",
    "\n",
    "choixStringVar2 = StringVar(root, 'choix 3')\n",
    "\n",
    "rbtn4 = Radiobutton(root, variable=choixStringVar2, value=\"choix 1\")\n",
    "rbtn4.grid()\n",
    "rbtn5 = Radiobutton(root, variable=choixStringVar2, value=\"choix 2\")\n",
    "rbtn5.grid()\n",
    "rbtn6 = Radiobutton(root, variable=choixStringVar2, value=\"choix 3\")\n",
    "rbtn6.grid()\n",
    "\n",
    "root.mainloop()"
   ]
  },
  {
   "cell_type": "code",
   "execution_count": 40,
   "metadata": {},
   "outputs": [],
   "source": [
    "from tkinter import Tk, StringVar, Radiobutton, Label\n",
    "\n",
    "root = Tk()\n",
    "\n",
    "choixStringVar = StringVar(root, 'choix 2')\n",
    "lbl1 = Label(root, text=\"choix 1\")\n",
    "lbl1.grid(row = 0, column = 0)\n",
    "rbtn1 = Radiobutton(root, variable=choixStringVar, value=\"choix 1\")\n",
    "rbtn1.grid(row = 0, column = 1)\n",
    "lbl2 = Label(root, text=\"choix 2\")\n",
    "lbl2.grid(row = 1, column = 0)\n",
    "rbtn2 = Radiobutton(root, variable=choixStringVar, value=\"choix 2\")\n",
    "rbtn2.grid(row = 1, column = 1)\n",
    "lbl3 = Label(root, text=\"choix 3\")\n",
    "lbl3.grid(row = 2, column = 0)\n",
    "rbtn3 = Radiobutton(root, variable=choixStringVar, value=\"choix 3\")\n",
    "rbtn3.grid(row = 2, column = 1)\n",
    "\n",
    "root.mainloop()"
   ]
  },
  {
   "cell_type": "markdown",
   "metadata": {},
   "source": [
    "### Canvas"
   ]
  },
  {
   "cell_type": "code",
   "execution_count": 42,
   "metadata": {},
   "outputs": [],
   "source": [
    "from tkinter import Tk, Canvas\n",
    "\n",
    "root = Tk()\n",
    "canvas = Canvas(root, background=\"white\")\n",
    "canvas.create_line((10,10), (50,50), (10, 50), fill='red', width=2)\n",
    "canvas.create_rectangle((100,100), (150,150))\n",
    "canvas.create_rectangle((50,50), (100,100), fill='blue')\n",
    "\n",
    "canvas.grid()\n",
    "\n",
    "root.mainloop()\n"
   ]
  },
  {
   "cell_type": "markdown",
   "metadata": {},
   "source": [
    "## Placement"
   ]
  },
  {
   "cell_type": "markdown",
   "metadata": {},
   "source": [
    "### Grid"
   ]
  },
  {
   "cell_type": "code",
   "execution_count": 43,
   "metadata": {},
   "outputs": [],
   "source": [
    "from tkinter import Tk, Label\n",
    "\n",
    "root = Tk()\n",
    "label = Label(root, text=\"Hello\", foreground=\"#892222\",\n",
    "              background=\"#FFAAAA\", padx=\"100\", pady=\"20\")\n",
    "label.grid()\n",
    "label2 = Label(root, text=\"ça va ? texte plus long\", foreground=\"#228922\",\n",
    "              background=\"#AAFFAA\", padx=\"100\", pady=\"20\")\n",
    "label2.grid()\n",
    "\n",
    "root.mainloop()"
   ]
  },
  {
   "cell_type": "code",
   "execution_count": 44,
   "metadata": {},
   "outputs": [],
   "source": [
    "from tkinter import Tk, Label\n",
    "\n",
    "root = Tk()\n",
    "label = Label(root, text=\"Hello\", foreground=\"#892222\",\n",
    "              background=\"#FFAAAA\", padx=\"100\", pady=\"20\")\n",
    "label.grid(row = 0, column = 0)\n",
    "label2 = Label(root, text=\"ça va ? texte plus long\", foreground=\"#228922\",\n",
    "              background=\"#AAFFAA\", padx=\"100\", pady=\"20\")\n",
    "label2.grid(row = 0, column = 1)\n",
    "\n",
    "root.mainloop()"
   ]
  },
  {
   "cell_type": "code",
   "execution_count": 47,
   "metadata": {},
   "outputs": [],
   "source": [
    "from tkinter import Tk, Label\n",
    "\n",
    "root = Tk()\n",
    "label = Label(root, text=\"Hello texte plus long\", foreground=\"#892222\",\n",
    "              background=\"#FFAAAA\", padx=\"0\", pady=\"20\")\n",
    "label.grid(row = 0, column = 0)\n",
    "label2 = Label(root, text=\"ça va ? texte plus long\", foreground=\"#228922\",\n",
    "              background=\"#AAFFAA\", padx=\"100\", pady=\"20\")\n",
    "label2.grid(row = 0, column = 1)\n",
    "\n",
    "label3 = Label(root, text=\"Hello2\", foreground=\"#892222\",\n",
    "              background=\"#FFAAAA\", padx=\"100\", pady=\"20\")\n",
    "label3.grid(row = 1, column = 1)\n",
    "label4 = Label(root, text=\"ça va ? texte plus long2\", foreground=\"#228922\",\n",
    "              background=\"#AAFFAA\", padx=\"100\", pady=\"20\")\n",
    "label4.grid(row = 1, column = 0)\n",
    "\n",
    "\n",
    "root.mainloop()"
   ]
  },
  {
   "cell_type": "markdown",
   "metadata": {},
   "source": [
    "### Place"
   ]
  },
  {
   "cell_type": "code",
   "execution_count": 48,
   "metadata": {},
   "outputs": [],
   "source": [
    "from tkinter import Tk, Label\n",
    "root = Tk()\n",
    "root.geometry('200x200')\n",
    "\n",
    "label2 = Label(root, text=\"Hello\", foreground=\"#892222\",\n",
    "              background=\"#AAFFAA\", padx=\"10\", pady=\"4\")\n",
    "label2.place(x=100, y=100)\n",
    "\n",
    "root.mainloop()"
   ]
  },
  {
   "cell_type": "code",
   "execution_count": 51,
   "metadata": {},
   "outputs": [],
   "source": [
    "from tkinter import Tk, Label\n",
    "root = Tk()\n",
    "root.geometry('200x200')\n",
    "\n",
    "label3 = Label(root, text=\"Hello relheight\", foreground=\"#222289\",\n",
    "              background=\"#AAAAFF\", padx=\"10\", pady=\"4\")\n",
    "label3.place(relheight=0.5, relwidth=0.5)\n",
    "\n",
    "label = Label(root, text=\"Hello relx\", foreground=\"#892222\",\n",
    "              background=\"#FFAAAA\", padx=\"10\", pady=\"4\")\n",
    "label.place(relx=0.5, rely=0.0)\n",
    "\n",
    "label2 = Label(root, text=\"Hello x=\", foreground=\"#892222\",\n",
    "              background=\"#AAFFAA\", padx=\"10\", pady=\"4\")\n",
    "label2.place(x=100, y=100)\n",
    "\n",
    "label2.place(relheight=0.5, relwidth=0.5)\n",
    "\n",
    "\n",
    "root.mainloop()"
   ]
  },
  {
   "cell_type": "markdown",
   "metadata": {},
   "source": [
    "## Conteneurs"
   ]
  },
  {
   "cell_type": "markdown",
   "metadata": {},
   "source": [
    "### Fenêtres"
   ]
  },
  {
   "cell_type": "code",
   "execution_count": 23,
   "metadata": {},
   "outputs": [],
   "source": [
    "from tkinter import Tk\n",
    "root = Tk()\n",
    "root.title(\"Ma fenêtre\")\n",
    "root.geometry('200x200')\n",
    "root.mainloop()"
   ]
  },
  {
   "cell_type": "code",
   "execution_count": 53,
   "metadata": {},
   "outputs": [],
   "source": [
    "from tkinter import Tk, Toplevel\n",
    "root = Tk()\n",
    "root.title('root')\n",
    "root.geometry('200x200')\n",
    "\n",
    "top = Toplevel(root)\n",
    "top.title('top')\n",
    "top.geometry('150x150')\n",
    "\n",
    "root.mainloop()"
   ]
  },
  {
   "cell_type": "markdown",
   "metadata": {},
   "source": [
    "### Frame"
   ]
  },
  {
   "cell_type": "code",
   "execution_count": 25,
   "metadata": {},
   "outputs": [],
   "source": [
    "from tkinter import Tk, Frame, Label\n",
    "\n",
    "root = Tk()\n",
    "\n",
    "f1 = Frame(root, bd=1, relief='solid')\n",
    "lbl1 = Label(f1, text='je suis dans F1')\n",
    "lbl1.grid(row=0, column=0)\n",
    "lbl2 = Label(f1, text='moi aussi dans F1')\n",
    "lbl2.grid(row=0, column=1)\n",
    "\n",
    "f1.grid(row=0, column=0)\n",
    "Label(root, text='je suis dans root').grid(row=1, column=0)\n",
    "Label(root, text='moi aussi dans root').grid(row=2, column=0)\n",
    "\n",
    "root.mainloop()"
   ]
  },
  {
   "cell_type": "markdown",
   "metadata": {},
   "source": [
    "## Commandes"
   ]
  },
  {
   "cell_type": "code",
   "execution_count": 55,
   "metadata": {},
   "outputs": [],
   "source": [
    "from functools import partial\n",
    "from tkinter import *\n",
    "\n",
    "def update_label(label, texte):\n",
    "    \"\"\"\n",
    "    Modifie le texte d'un label.\n",
    "    \"\"\"\n",
    "    label.config(text=texte)\n",
    "\n",
    "root = Tk()\n",
    "label = Label(root, text='')\n",
    "button = Button(root, text='clic', command=partial(update_label, label, texte='Merci'))\n",
    "\n",
    "label.grid(column=0, row=0)\n",
    "button.grid(column=0, row=1)\n",
    "root.mainloop()"
   ]
  },
  {
   "cell_type": "code",
   "execution_count": 57,
   "metadata": {},
   "outputs": [
    {
     "name": "stdout",
     "output_type": "stream",
     "text": [
      "hello mkljmlkj\n"
     ]
    }
   ],
   "source": [
    "from tkinter import *\n",
    "from functools import partial\n",
    "\n",
    "def update_label_recherche(lbl, texte):\n",
    "    print(\"hello\",texte.get())\n",
    "    lbl.config(text=\"Votre recherche est : \" + texte.get())\n",
    "\n",
    "root = Tk()\n",
    "root.title(\"Google\")\n",
    "\n",
    "# Zone de Texte\n",
    "textRecherche = StringVar(root)\n",
    "entry_name = Entry(root, textvariable=textRecherche)\n",
    "entry_name.grid(column=0, row=0)\n",
    "\n",
    "# Boutton\n",
    "btnRechercher = Button(root, text='Recherche')\n",
    "btnRechercher.grid(column=0, row=1)\n",
    "\n",
    "# Label résultat\n",
    "labelResultat = Label(root, text=\"Votre recherche est : \")\n",
    "labelResultat.grid(row=4,column=0)\n",
    "\n",
    "btnRechercher.config(command=\n",
    "                     partial(update_label_recherche,\n",
    "                             lbl=labelResultat,\n",
    "                             texte=textRecherche))\n",
    "root.mainloop()"
   ]
  },
  {
   "cell_type": "markdown",
   "metadata": {},
   "source": [
    "## Evénements"
   ]
  },
  {
   "cell_type": "code",
   "execution_count": 28,
   "metadata": {},
   "outputs": [],
   "source": [
    "from tkinter import *\n",
    "from pprint import pformat\n",
    "from functools import partial\n",
    "\n",
    "def mouse_event(label, event):\n",
    "    label.config(text=\"\"+str(event.x)+\";\"+str(event.y))\n",
    "    \n",
    "def key_event(label, event):\n",
    "    label.config(text=event.char)\n",
    "\n",
    "root = Tk()\n",
    "frame = Frame(root, bg='white', height=100, width=400)\n",
    "entry = Entry(root)\n",
    "label = Label(root)\n",
    "\n",
    "frame.grid(row=0, column=0)\n",
    "entry.grid(row=1, column=0, sticky='ew')\n",
    "label.grid(row=2, column=0)\n",
    "\n",
    "frame.bind('<ButtonPress>', partial(mouse_event, label))\n",
    "entry.bind('<KeyPress>', partial(key_event, label))\n",
    "root.mainloop()"
   ]
  },
  {
   "cell_type": "markdown",
   "metadata": {},
   "source": [
    "## Exemple"
   ]
  },
  {
   "cell_type": "code",
   "execution_count": 58,
   "metadata": {},
   "outputs": [
    {
     "name": "stdout",
     "output_type": "stream",
     "text": [
      "hello lkjmlkj\n",
      "radio Web\n",
      "hello lkjmlkj\n",
      "radio Web\n"
     ]
    }
   ],
   "source": [
    "from tkinter import *\n",
    "from functools import partial\n",
    "\n",
    "def update_label_recherche(lbl, texte, radio):\n",
    "    print(\"hello\",texte.get())\n",
    "    print(\"radio\",radio.get())\n",
    "    lbl.config(text=\"Votre recherche est : \" + texte.get() + \" sur \" + radio.get())\n",
    "\n",
    "def create_google():\n",
    "    root = Tk()\n",
    "    root.title(\"Google\")\n",
    "\n",
    "    # Image\n",
    "    canevas = Canvas(root)\n",
    "    photo = PhotoImage(file=\"google.gif\",master=root)\n",
    "\n",
    "    canevas.config(height=photo.height(), width=photo.width())\n",
    "    canevas.create_image(0, 0, anchor=NW, image=photo)\n",
    "    canevas.grid(column=0, row=0)\n",
    "\n",
    "    # Zone de Texte\n",
    "    textRecherche = StringVar(root)\n",
    "    entry_name = Entry(root, textvariable=textRecherche)\n",
    "    entry_name.grid(column=0, row=1)\n",
    "\n",
    "    # 2 bouttons\n",
    "    #f1 = Frame(root, bd=1, relief='solid')\n",
    "    f1 = Frame(root)\n",
    "    btnRechercher = Button(f1, text='Recherche Google')\n",
    "    btnChance = Button(f1, text='J\\'ai de la chance')\n",
    "    btnRechercher.grid(column=0, row=0)\n",
    "    btnChance.grid(column=1, row=0)\n",
    "\n",
    "    f1.grid(row=2, column=0)\n",
    "\n",
    "    # Label & Radio boutons\n",
    "    fRadio = Frame(root)\n",
    "    LblRech = Label(fRadio, text='Rechercher dans : ')\n",
    "    LblRech.grid(column=0, row=0)\n",
    "\n",
    "    choice = ['Web', 'Pages francophones', 'Pages : France']\n",
    "    choixStringVar = StringVar(fRadio, 'choix')\n",
    "\n",
    "    for i, value in enumerate(choice, 1):\n",
    "        label = Label(fRadio, text=value)\n",
    "        radiobutton = Radiobutton(fRadio, variable=choixStringVar, value=value)\n",
    "\n",
    "        label.grid(row=0, column=2*i-1)\n",
    "        radiobutton.grid(row=0, column=2*i)\n",
    "\n",
    "    fRadio.grid(row=3, column=0)\n",
    "\n",
    "    labelResultat = Label(root, text=\"Votre recherche est : \")\n",
    "    labelResultat.grid(row=4,column=0)\n",
    "\n",
    "    btnRechercher.config(command=\n",
    "                         partial(update_label_recherche,\n",
    "                                 lbl=labelResultat,\n",
    "                                 texte=textRecherche,\n",
    "                                 radio=choixStringVar))\n",
    "\n",
    "\n",
    "    root.mainloop()\n",
    "\n",
    "create_google()"
   ]
  },
  {
   "cell_type": "code",
   "execution_count": null,
   "metadata": {},
   "outputs": [],
   "source": []
  }
 ],
 "metadata": {
  "kernelspec": {
   "display_name": "Python 3 (ipykernel)",
   "language": "python",
   "name": "python3"
  },
  "language_info": {
   "codemirror_mode": {
    "name": "ipython",
    "version": 3
   },
   "file_extension": ".py",
   "mimetype": "text/x-python",
   "name": "python",
   "nbconvert_exporter": "python",
   "pygments_lexer": "ipython3",
   "version": "3.12.4"
  }
 },
 "nbformat": 4,
 "nbformat_minor": 4
}
